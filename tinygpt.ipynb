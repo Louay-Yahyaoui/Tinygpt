{
 "cells": [
  {
   "cell_type": "code",
   "execution_count": 1,
   "id": "44f87eb0",
   "metadata": {
    "_cell_guid": "b1076dfc-b9ad-4769-8c92-a6c4dae69d19",
    "_uuid": "8f2839f25d086af736a60e9eeb907d3b93b6e0e5",
    "execution": {
     "iopub.execute_input": "2024-07-30T14:56:39.634843Z",
     "iopub.status.busy": "2024-07-30T14:56:39.634136Z",
     "iopub.status.idle": "2024-07-30T14:56:51.253127Z",
     "shell.execute_reply": "2024-07-30T14:56:51.251911Z"
    },
    "papermill": {
     "duration": 11.628657,
     "end_time": "2024-07-30T14:56:51.255645",
     "exception": false,
     "start_time": "2024-07-30T14:56:39.626988",
     "status": "completed"
    },
    "tags": []
   },
   "outputs": [
    {
     "name": "stderr",
     "output_type": "stream",
     "text": [
      "/opt/conda/lib/python3.10/site-packages/scipy/__init__.py:146: UserWarning: A NumPy version >=1.16.5 and <1.23.0 is required for this version of SciPy (detected version 1.24.3\n",
      "  warnings.warn(f\"A NumPy version >={np_minversion} and <{np_maxversion}\"\n"
     ]
    }
   ],
   "source": [
    "import os\n",
    "import tensorflow as tf\n",
    "from tensorflow.keras.layers import Dense, MultiHeadAttention, Embedding, Add, Dropout, LayerNormalization\n",
    "from tensorflow.keras.optimizers import Adam\n",
    "import numpy as np\n",
    "import bisect\n",
    "import re\n",
    "import math\n",
    "import os"
   ]
  },
  {
   "cell_type": "code",
   "execution_count": 2,
   "id": "139d3f36",
   "metadata": {
    "execution": {
     "iopub.execute_input": "2024-07-30T14:56:51.268841Z",
     "iopub.status.busy": "2024-07-30T14:56:51.268219Z",
     "iopub.status.idle": "2024-07-30T14:56:51.275238Z",
     "shell.execute_reply": "2024-07-30T14:56:51.274419Z"
    },
    "papermill": {
     "duration": 0.015433,
     "end_time": "2024-07-30T14:56:51.277156",
     "exception": false,
     "start_time": "2024-07-30T14:56:51.261723",
     "status": "completed"
    },
    "tags": []
   },
   "outputs": [
    {
     "data": {
      "text/plain": [
       "'\\n# My tokenkization\\nfrom nltk.corpus import brown\\n\\nfor file in brown.fileids():\\n    clean_file = re.sub(r\\'/[^\\\\s]+\\', \\' \\', brown.raw(file))\\n    dataset += clean_file + \"\\n\" # Concatenate all the files together\\n\\ndataset = re.sub(r\\'\\\\s+\\', \\' \\', dataset)\\nlen(dataset) # Number of characters\\n'"
      ]
     },
     "execution_count": 2,
     "metadata": {},
     "output_type": "execute_result"
    }
   ],
   "source": [
    "\"\"\"\n",
    "# My tokenkization\n",
    "from nltk.corpus import brown\n",
    "\n",
    "for file in brown.fileids():\n",
    "    clean_file = re.sub(r'/[^\\s]+', ' ', brown.raw(file))\n",
    "    dataset += clean_file + \"\\n\" # Concatenate all the files together\n",
    "\n",
    "dataset = re.sub(r'\\s+', ' ', dataset)\n",
    "len(dataset) # Number of characters\n",
    "\"\"\""
   ]
  },
  {
   "cell_type": "code",
   "execution_count": 3,
   "id": "d59a2043",
   "metadata": {
    "execution": {
     "iopub.execute_input": "2024-07-30T14:56:51.290042Z",
     "iopub.status.busy": "2024-07-30T14:56:51.289762Z",
     "iopub.status.idle": "2024-07-30T14:56:52.823936Z",
     "shell.execute_reply": "2024-07-30T14:56:52.822894Z"
    },
    "papermill": {
     "duration": 1.54324,
     "end_time": "2024-07-30T14:56:52.826271",
     "exception": false,
     "start_time": "2024-07-30T14:56:51.283031",
     "status": "completed"
    },
    "tags": []
   },
   "outputs": [],
   "source": [
    "import pandas as pd\n",
    "dataset = \"\"\n",
    "\n",
    "texts = pd.read_csv('/kaggle/input/brown.csv')[\"tokenized_text\"]\n",
    "for text in texts:\n",
    "    dataset += text\n",
    "# Separate the punctuation from the words by a space\n",
    "dataset = re.sub('[^a-zA-Z0-9\\s]+', lambda x: x.group(0)[0] , dataset)    \n",
    "dataset = re.sub(r'\\s+', ' ', dataset)\n",
    "\n",
    "dataset = dataset.split()"
   ]
  },
  {
   "cell_type": "code",
   "execution_count": 4,
   "id": "b4d596a8",
   "metadata": {
    "execution": {
     "iopub.execute_input": "2024-07-30T14:56:52.839634Z",
     "iopub.status.busy": "2024-07-30T14:56:52.839107Z",
     "iopub.status.idle": "2024-07-30T14:56:52.941525Z",
     "shell.execute_reply": "2024-07-30T14:56:52.940700Z"
    },
    "papermill": {
     "duration": 0.111186,
     "end_time": "2024-07-30T14:56:52.943560",
     "exception": false,
     "start_time": "2024-07-30T14:56:52.832374",
     "status": "completed"
    },
    "tags": []
   },
   "outputs": [
    {
     "data": {
      "text/plain": [
       "61264"
      ]
     },
     "execution_count": 4,
     "metadata": {},
     "output_type": "execute_result"
    }
   ],
   "source": [
    "vocab = sorted(set(dataset))\n",
    "vocab_size = len(vocab) + 2\n",
    "vocab_size"
   ]
  },
  {
   "cell_type": "code",
   "execution_count": 5,
   "id": "32702dfe",
   "metadata": {
    "execution": {
     "iopub.execute_input": "2024-07-30T14:56:52.956713Z",
     "iopub.status.busy": "2024-07-30T14:56:52.956415Z",
     "iopub.status.idle": "2024-07-30T14:56:53.470496Z",
     "shell.execute_reply": "2024-07-30T14:56:53.469511Z"
    },
    "papermill": {
     "duration": 0.523253,
     "end_time": "2024-07-30T14:56:53.472933",
     "exception": false,
     "start_time": "2024-07-30T14:56:52.949680",
     "status": "completed"
    },
    "tags": []
   },
   "outputs": [
    {
     "data": {
      "text/plain": [
       "830"
      ]
     },
     "execution_count": 5,
     "metadata": {},
     "output_type": "execute_result"
    }
   ],
   "source": [
    "sentences = \" \".join(dataset).split(\".\")\n",
    "sentences = [s.split() for s in sentences if len(s.split())>0]\n",
    "max_length = max([len(s) for s in sentences])\n",
    "max_length"
   ]
  },
  {
   "cell_type": "code",
   "execution_count": 6,
   "id": "a29e5ae1",
   "metadata": {
    "execution": {
     "iopub.execute_input": "2024-07-30T14:56:53.491101Z",
     "iopub.status.busy": "2024-07-30T14:56:53.490812Z",
     "iopub.status.idle": "2024-07-30T14:56:53.522429Z",
     "shell.execute_reply": "2024-07-30T14:56:53.521416Z"
    },
    "papermill": {
     "duration": 0.043544,
     "end_time": "2024-07-30T14:56:53.524331",
     "exception": false,
     "start_time": "2024-07-30T14:56:53.480787",
     "status": "completed"
    },
    "tags": []
   },
   "outputs": [
    {
     "name": "stdout",
     "output_type": "stream",
     "text": [
      "19.899629529231046 15.372308871704446 118.66599999999744\n"
     ]
    }
   ],
   "source": [
    "lengths = [len(s) for s in sentences]\n",
    "print(np.mean(lengths), np.std(lengths), np.quantile(lengths, .999))\n",
    "\n",
    "# 1 in 1000 sentences exceeds 128 so 128 it is."
   ]
  },
  {
   "cell_type": "code",
   "execution_count": 7,
   "id": "52f0b661",
   "metadata": {
    "execution": {
     "iopub.execute_input": "2024-07-30T14:56:53.537759Z",
     "iopub.status.busy": "2024-07-30T14:56:53.537503Z",
     "iopub.status.idle": "2024-07-30T14:56:55.412728Z",
     "shell.execute_reply": "2024-07-30T14:56:55.411933Z"
    },
    "papermill": {
     "duration": 1.884674,
     "end_time": "2024-07-30T14:56:55.415190",
     "exception": false,
     "start_time": "2024-07-30T14:56:53.530516",
     "status": "completed"
    },
    "tags": []
   },
   "outputs": [],
   "source": [
    "sentence_length = 128 # 2 ** math.ceil(math.log2(max_length)) if we want to\n",
    "# include every sentence. But truncating 1 in 1000 for 8x memory saving seems\n",
    "# obvious.\n",
    "pad_id = 0\n",
    "start_id = 1\n",
    "\n",
    "point = bisect.bisect_left(vocab, '.') + 2\n",
    "dataset = np.zeros((len(sentences),  sentence_length + 1), dtype = np.float32) + pad_id\n",
    "\n",
    "for i, sentence in enumerate(sentences):\n",
    "    dataset[i, :min(len(sentence) + 2, sentence_length + 1)] = np.array([start_id] + [bisect.bisect_left(vocab, word) + 2 for word in sentence][:sentence_length - 1] + [point], dtype = np.float32)\n",
    "\n",
    "vocab = [\"<PAD>\", \"<S>\"] + vocab"
   ]
  },
  {
   "cell_type": "code",
   "execution_count": 8,
   "id": "6a302e09",
   "metadata": {
    "execution": {
     "iopub.execute_input": "2024-07-30T14:56:55.429051Z",
     "iopub.status.busy": "2024-07-30T14:56:55.428756Z",
     "iopub.status.idle": "2024-07-30T14:56:55.434322Z",
     "shell.execute_reply": "2024-07-30T14:56:55.433489Z"
    },
    "papermill": {
     "duration": 0.014624,
     "end_time": "2024-07-30T14:56:55.436240",
     "exception": false,
     "start_time": "2024-07-30T14:56:55.421616",
     "status": "completed"
    },
    "tags": []
   },
   "outputs": [],
   "source": [
    "class FeedForward(tf.keras.Model):\n",
    "    def __init__(self, emb_dim, units):\n",
    "        super().__init__()\n",
    "        self.dense1 = Dense(units, activation = \"relu\")\n",
    "        self.dense2 = Dense(emb_dim)\n",
    "        \n",
    "    def call(self, x):\n",
    "        x = self.dense1(x)\n",
    "        out = self.dense2(x)\n",
    "        return out"
   ]
  },
  {
   "cell_type": "code",
   "execution_count": 9,
   "id": "b805b984",
   "metadata": {
    "execution": {
     "iopub.execute_input": "2024-07-30T14:56:55.449584Z",
     "iopub.status.busy": "2024-07-30T14:56:55.449286Z",
     "iopub.status.idle": "2024-07-30T14:56:55.456665Z",
     "shell.execute_reply": "2024-07-30T14:56:55.455878Z"
    },
    "papermill": {
     "duration": 0.016222,
     "end_time": "2024-07-30T14:56:55.458664",
     "exception": false,
     "start_time": "2024-07-30T14:56:55.442442",
     "status": "completed"
    },
    "tags": []
   },
   "outputs": [],
   "source": [
    "class Decoder(tf.keras.Model):\n",
    "    def __init__(self, n_heads = 8, emb_dim = 512, units = 2048, dropout = .1):\n",
    "        super().__init__()\n",
    "        self.mha = MultiHeadAttention(n_heads, emb_dim//n_heads)\n",
    "        self.dropout1 =  Dropout(dropout)\n",
    "        self.ln1 = LayerNormalization()\n",
    "        \n",
    "        self.ffn = FeedForward(emb_dim, units)\n",
    "        self.dropout2 =  Dropout(dropout)\n",
    "        self.ln2 = LayerNormalization()\n",
    "        \n",
    "    def call(self, x, training):\n",
    "        # Masked multi-head self-attention\n",
    "        # The mask for the padding is problematic to implement here and it's more \n",
    "        # convenient to mask the loss function and we just use the look-ahead mask here.\n",
    "        x1 = self.mha(x, x, x, use_causal_mask = True)\n",
    "        x1 = self.dropout1(x1, training = training)\n",
    "        x = self.ln1(x1 + x)\n",
    "        \n",
    "        x2 = self.ffn(x)\n",
    "        x2 = self.dropout2(x2, training = training)\n",
    "        x = self.ln2(x + x2)\n",
    "        \n",
    "        return x"
   ]
  },
  {
   "cell_type": "code",
   "execution_count": 10,
   "id": "1d4db084",
   "metadata": {
    "execution": {
     "iopub.execute_input": "2024-07-30T14:56:55.471893Z",
     "iopub.status.busy": "2024-07-30T14:56:55.471646Z",
     "iopub.status.idle": "2024-07-30T14:56:55.478637Z",
     "shell.execute_reply": "2024-07-30T14:56:55.477833Z"
    },
    "papermill": {
     "duration": 0.015702,
     "end_time": "2024-07-30T14:56:55.480445",
     "exception": false,
     "start_time": "2024-07-30T14:56:55.464743",
     "status": "completed"
    },
    "tags": []
   },
   "outputs": [],
   "source": [
    "class Transformer(tf.keras.Model):\n",
    "    def __init__(self, vocab_size, sentence_length = 256, n = 6, n_heads = 8, emb_dim = 512, units = 2048, dropout = .1):\n",
    "        super().__init__()\n",
    "        # Embedding layer\n",
    "        self.embedding = Embedding(vocab_size, emb_dim, input_length = sentence_length)\n",
    "        # Positional encoding\n",
    "        self.pos_encode = Add()\n",
    "        self.decoder_stack = [Decoder(n_heads, emb_dim, units, dropout) for _ in range(n)]\n",
    "        self.linear = Dense(vocab_size, activation = tf.nn.log_softmax)\n",
    "        \n",
    "    def call(self, x, training):\n",
    "        \n",
    "        x = self.embedding(x)\n",
    "        x = self.pos_encode([x, pos_encoding])\n",
    "        \n",
    "        for decoder in self.decoder_stack:\n",
    "            x = decoder(x, training)\n",
    "        \n",
    "        out = self.linear(x)\n",
    "        \n",
    "        return out"
   ]
  },
  {
   "cell_type": "code",
   "execution_count": 11,
   "id": "e751a412",
   "metadata": {
    "execution": {
     "iopub.execute_input": "2024-07-30T14:56:55.493602Z",
     "iopub.status.busy": "2024-07-30T14:56:55.493327Z",
     "iopub.status.idle": "2024-07-30T14:56:55.499140Z",
     "shell.execute_reply": "2024-07-30T14:56:55.498294Z"
    },
    "papermill": {
     "duration": 0.014613,
     "end_time": "2024-07-30T14:56:55.501089",
     "exception": false,
     "start_time": "2024-07-30T14:56:55.486476",
     "status": "completed"
    },
    "tags": []
   },
   "outputs": [],
   "source": [
    "# For a generative model, label smoothing simply hurts perplexity which is what we care \n",
    "# about most. \n",
    "epsilon  = 0.0 # 0.1\n",
    "\n",
    "def masked_loss(label, pred, pad_id = 0):\n",
    "    mask = label != pad_id\n",
    "    \n",
    "    y = tf.one_hot(tf.cast(label, tf.int32), vocab_size, axis = -1)\n",
    "    loss_object = tf.keras.losses.CategoricalCrossentropy(\n",
    "    from_logits=True, reduction='none', label_smoothing = epsilon)\n",
    "    loss = loss_object(y, pred)\n",
    "    \n",
    "    mask = tf.cast(mask, dtype=loss.dtype)\n",
    "    loss *= mask\n",
    "\n",
    "    loss = tf.reduce_sum(loss)/tf.reduce_sum(mask)\n",
    "    return loss"
   ]
  },
  {
   "cell_type": "code",
   "execution_count": 12,
   "id": "8491d837",
   "metadata": {
    "execution": {
     "iopub.execute_input": "2024-07-30T14:56:55.515061Z",
     "iopub.status.busy": "2024-07-30T14:56:55.514815Z",
     "iopub.status.idle": "2024-07-30T14:56:55.522109Z",
     "shell.execute_reply": "2024-07-30T14:56:55.521303Z"
    },
    "papermill": {
     "duration": 0.015908,
     "end_time": "2024-07-30T14:56:55.523917",
     "exception": false,
     "start_time": "2024-07-30T14:56:55.508009",
     "status": "completed"
    },
    "tags": []
   },
   "outputs": [],
   "source": [
    "class TransformerLearningRateSchedule(tf.keras.optimizers.schedules.LearningRateSchedule):\n",
    "    def __init__(self, initial_learning_rate, warmup_steps, dtype=tf.float32):\n",
    "        super(TransformerLearningRateSchedule, self).__init__()\n",
    "        self.initial_learning_rate = initial_learning_rate\n",
    "        self.dtype = dtype\n",
    "        self.warmup_steps = tf.cast(warmup_steps, self.dtype)\n",
    "\n",
    "    def __call__(self, step):\n",
    "        step = tf.cast(step, self.dtype)\n",
    "        warmup_steps = tf.cast(self.warmup_steps, self.dtype)\n",
    "        x1 = tf.math.pow(step, tf.constant(-0.5, dtype = self.dtype))\n",
    "        x2 = step * tf.math.pow(self.warmup_steps, tf.constant(-1.5, dtype = self.dtype))\n",
    "        return self.initial_learning_rate * tf.math.minimum(x1, x2)\n",
    "\n",
    "    def get_config(self):\n",
    "        return {\n",
    "            'initial_learning_rate': self.initial_learning_rate,\n",
    "            'warmup_steps': self.warmup_steps,\n",
    "            'dtype': self.dtype\n",
    "        }"
   ]
  },
  {
   "cell_type": "code",
   "execution_count": 13,
   "id": "7df561d3",
   "metadata": {
    "execution": {
     "iopub.execute_input": "2024-07-30T14:56:55.536881Z",
     "iopub.status.busy": "2024-07-30T14:56:55.536613Z",
     "iopub.status.idle": "2024-07-30T14:56:56.415095Z",
     "shell.execute_reply": "2024-07-30T14:56:56.414343Z"
    },
    "papermill": {
     "duration": 0.887279,
     "end_time": "2024-07-30T14:56:56.417166",
     "exception": false,
     "start_time": "2024-07-30T14:56:55.529887",
     "status": "completed"
    },
    "tags": []
   },
   "outputs": [],
   "source": [
    "emb_dim = 256 # 512\n",
    "n_heads = 4 # 8\n",
    "units = 1024 # 2048\n",
    "n = 3 # 6\n",
    "dropout = 0.1 # 0.1\n",
    "warmup_steps = 4000\n",
    "#learning_rate = 1e-3\n",
    "# Using a different learning rate than the paper as they train for many more steps.\n",
    "learning_rate_schedule = TransformerLearningRateSchedule(emb_dim**-.5, warmup_steps)\n",
    "optimizer = Adam(learning_rate_schedule, beta_1 = .9, beta_2 = .998, epsilon = 1e-9)"
   ]
  },
  {
   "cell_type": "code",
   "execution_count": 14,
   "id": "d242d5f3",
   "metadata": {
    "execution": {
     "iopub.execute_input": "2024-07-30T14:56:56.431711Z",
     "iopub.status.busy": "2024-07-30T14:56:56.431220Z",
     "iopub.status.idle": "2024-07-30T14:56:56.441431Z",
     "shell.execute_reply": "2024-07-30T14:56:56.440748Z"
    },
    "papermill": {
     "duration": 0.019606,
     "end_time": "2024-07-30T14:56:56.443304",
     "exception": false,
     "start_time": "2024-07-30T14:56:56.423698",
     "status": "completed"
    },
    "tags": []
   },
   "outputs": [],
   "source": [
    "# Positional encoding\n",
    "pos_encoding = np.zeros((sentence_length, emb_dim))\n",
    "pos = np.arange(sentence_length)[:, np.newaxis]\n",
    "even = np.arange(emb_dim, step = 2)[np.newaxis, :]\n",
    "pos_encoding[:, ::2] = np.sin(pos/10**(4*even/emb_dim))\n",
    "pos_encoding[:, 1::2] = np.cos(pos/10**(4*even/emb_dim))\n",
    "pos_encoding = pos_encoding[np.newaxis, :, :] # Adding the batch dimension\n",
    "pos_encoding = tf.cast(pos_encoding, dtype=tf.float32)"
   ]
  },
  {
   "cell_type": "code",
   "execution_count": 15,
   "id": "1c4ea0e1",
   "metadata": {
    "execution": {
     "iopub.execute_input": "2024-07-30T14:56:56.456591Z",
     "iopub.status.busy": "2024-07-30T14:56:56.456288Z",
     "iopub.status.idle": "2024-07-30T14:56:57.145244Z",
     "shell.execute_reply": "2024-07-30T14:56:57.144291Z"
    },
    "papermill": {
     "duration": 0.697892,
     "end_time": "2024-07-30T14:56:57.147471",
     "exception": false,
     "start_time": "2024-07-30T14:56:56.449579",
     "status": "completed"
    },
    "tags": []
   },
   "outputs": [
    {
     "name": "stdout",
     "output_type": "stream",
     "text": [
      "Model: \"transformer\"\n",
      "_________________________________________________________________\n",
      " Layer (type)                Output Shape              Param #   \n",
      "=================================================================\n",
      " embedding (Embedding)       multiple                  15683584  \n",
      "                                                                 \n",
      " add (Add)                   multiple                  0         \n",
      "                                                                 \n",
      " decoder (Decoder)           multiple                  789760    \n",
      "                                                                 \n",
      " decoder_1 (Decoder)         multiple                  789760    \n",
      "                                                                 \n",
      " decoder_2 (Decoder)         multiple                  789760    \n",
      "                                                                 \n",
      " dense_6 (Dense)             multiple                  15744848  \n",
      "                                                                 \n",
      "=================================================================\n",
      "Total params: 33797712 (128.93 MB)\n",
      "Trainable params: 33797712 (128.93 MB)\n",
      "Non-trainable params: 0 (0.00 Byte)\n",
      "_________________________________________________________________\n"
     ]
    }
   ],
   "source": [
    "model = Transformer(vocab_size, sentence_length, n, n_heads, emb_dim, units, dropout)\n",
    "model.compile(optimizer, masked_loss)\n",
    "model.build((None, sentence_length))\n",
    "\n",
    "model.summary()"
   ]
  },
  {
   "cell_type": "code",
   "execution_count": 16,
   "id": "d71c7da4",
   "metadata": {
    "execution": {
     "iopub.execute_input": "2024-07-30T14:56:57.164609Z",
     "iopub.status.busy": "2024-07-30T14:56:57.164297Z",
     "iopub.status.idle": "2024-07-30T15:11:29.594157Z",
     "shell.execute_reply": "2024-07-30T15:11:29.593214Z"
    },
    "papermill": {
     "duration": 872.440738,
     "end_time": "2024-07-30T15:11:29.596403",
     "exception": false,
     "start_time": "2024-07-30T14:56:57.155665",
     "status": "completed"
    },
    "tags": []
   },
   "outputs": [
    {
     "name": "stdout",
     "output_type": "stream",
     "text": [
      "Epoch 1/3\n",
      "1643/1643 [==============================] - 306s 180ms/step - loss: 7.4721 - val_loss: 6.5390\n",
      "Epoch 2/3\n",
      "1643/1643 [==============================] - 282s 172ms/step - loss: 6.1878 - val_loss: 6.3113\n",
      "Epoch 3/3\n",
      "1643/1643 [==============================] - 283s 173ms/step - loss: 5.8355 - val_loss: 6.2247\n"
     ]
    }
   ],
   "source": [
    "batch_size = 32\n",
    "epochs = 3\n",
    "\n",
    "# X is simply the expected output shifted to the right with a <S> token at the beginning.\n",
    "history = model.fit(dataset[:, :-1], dataset[:, 1:], batch_size, epochs, validation_split = .05)"
   ]
  },
  {
   "cell_type": "code",
   "execution_count": 17,
   "id": "93c0a76f",
   "metadata": {
    "execution": {
     "iopub.execute_input": "2024-07-30T15:11:30.383958Z",
     "iopub.status.busy": "2024-07-30T15:11:30.383085Z",
     "iopub.status.idle": "2024-07-30T15:11:30.808215Z",
     "shell.execute_reply": "2024-07-30T15:11:30.807296Z"
    },
    "papermill": {
     "duration": 0.823407,
     "end_time": "2024-07-30T15:11:30.810496",
     "exception": false,
     "start_time": "2024-07-30T15:11:29.987089",
     "status": "completed"
    },
    "tags": []
   },
   "outputs": [
    {
     "data": {
      "image/png": "[encoded data removed]",
      "text/plain": [
       "<Figure size 640x480 with 1 Axes>"
      ]
     },
     "metadata": {},
     "output_type": "display_data"
    }
   ],
   "source": [
    "import matplotlib.pyplot as plt\n",
    "\n",
    "plt.plot(history.history['loss'], label='Train Loss')\n",
    "plt.plot(history.history['val_loss'], label='Val Loss')\n",
    "plt.title('Model Loss')\n",
    "plt.xlabel('Epoch')\n",
    "plt.ylabel('Loss')\n",
    "plt.legend(loc='upper right')\n",
    "plt.ylim(6, max(history.history['loss'] + history.history['val_loss']))\n",
    "plt.tight_layout()\n",
    "plt.show()"
   ]
  },
  {
   "cell_type": "code",
   "execution_count": 18,
   "id": "50e0c696",
   "metadata": {
    "execution": {
     "iopub.execute_input": "2024-07-30T15:11:31.599438Z",
     "iopub.status.busy": "2024-07-30T15:11:31.598541Z",
     "iopub.status.idle": "2024-07-30T15:11:32.010625Z",
     "shell.execute_reply": "2024-07-30T15:11:32.009324Z"
    },
    "papermill": {
     "duration": 0.810662,
     "end_time": "2024-07-30T15:11:32.012722",
     "exception": false,
     "start_time": "2024-07-30T15:11:31.202060",
     "status": "completed"
    },
    "tags": []
   },
   "outputs": [
    {
     "name": "stdout",
     "output_type": "stream",
     "text": [
      "Furthermore 0.00044496628106571734\n",
      ", 0.6037073135375977\n",
      "as 0.029604867100715637\n",
      "an 0.011810892261564732\n",
      "encouragement 4.5964497985551134e-05\n",
      "to 0.04305797070264816\n",
      "revisionist 3.76785101252608e-05\n",
      "thinking 0.0009834084194153547\n",
      ", 0.20905186235904694\n",
      "it 0.08807332068681717\n",
      "manifestly 3.40445403708145e-05\n",
      "is 0.04192883521318436\n",
      "fair 0.00028986961115151644\n",
      "to 0.17485827207565308\n",
      "admit 0.000260029686614871\n",
      "that 0.21922433376312256\n",
      "any 0.004574747756123543\n",
      "fraternity 3.557905802153982e-05\n",
      "has 0.005575184710323811\n",
      "a 0.02964954264461994\n",
      "constitutional 0.0001292814122280106\n",
      "right 0.0005031063919886947\n",
      "to 0.283304363489151\n",
      "refuse 0.00020328252867329866\n",
      "to 0.5054311156272888\n",
      "accept 0.004417278803884983\n",
      "persons 0.00015856004029046744\n",
      "it 0.003256432246416807\n",
      "dislikes 5.657256406266242e-05\n",
      ". 0.2585285007953644\n"
     ]
    }
   ],
   "source": [
    "# Examining the 1st example.\n",
    "x = dataset[0]\n",
    "am = tf.nn.softmax(model(tf.reshape(x[:-1], (1, sentence_length))), axis = -1)\n",
    "indices = map(int, x[1:])\n",
    "am = tf.reshape(am, (-1, vocab_size))\n",
    "probs = []\n",
    "for i, idx in enumerate(indices):\n",
    "    if idx == 0:\n",
    "        break\n",
    "    print(vocab[idx], float(am[i, idx]))\n",
    "    probs.append(float(am[i, idx]))"
   ]
  },
  {
   "cell_type": "code",
   "execution_count": 19,
   "id": "f2f10ee9",
   "metadata": {
    "execution": {
     "iopub.execute_input": "2024-07-30T15:11:32.855940Z",
     "iopub.status.busy": "2024-07-30T15:11:32.855184Z",
     "iopub.status.idle": "2024-07-30T15:11:52.449999Z",
     "shell.execute_reply": "2024-07-30T15:11:52.449032Z"
    },
    "papermill": {
     "duration": 19.989908,
     "end_time": "2024-07-30T15:11:52.452384",
     "exception": false,
     "start_time": "2024-07-30T15:11:32.462476",
     "status": "completed"
    },
    "tags": []
   },
   "outputs": [
    {
     "name": "stdout",
     "output_type": "stream",
     "text": [
      "The final time of her horse had just been done .\n",
      "This is a remarkable one of the important , a little man ' , he said .\n",
      "He had been able to be a series of the old man and she was the hen .\n",
      "The company of man , who began to hang to the first the English mission , a new New York .\n",
      "The man had been doin' a little pastor .\n",
      "I heard you don't have been required to go on the right .\n",
      ", who had been sentenced to a decade and sounded , but there was the very feeling .\n",
      "They were held by the small and their day , and the achievements of the movies , the postulate the beginning of the boys , larger than five days , and ran to the phone .\n",
      "Be ten days , Julie .\n",
      "Then I resent my mother , well spoken at all I ? ?It was the suitcase of the evening .\n",
      "It wasn't that he would do that she had been open .\n",
      "I know that I don't want .\n",
      "12 .\n",
      "It is a society of mind .\n",
      "Without means that a century is high in the pseudophloem , there is a strong .\n",
      "It was quickly a good time to her , but she had been able to be trying to see a lot of her nose .\n",
      "In 1957 , the first one of the spirit .\n",
      "First , it was one of the ` about ' and ` a good man ' .\n",
      "For the first three and a year , the third British man with the old hair .\n",
      "He had been near the sun of the crowd and he was on 1954 .\n",
      "Substance and all the year , but he vowed warm to his own eye .\n",
      "Income over the University of the Royal Board of the No , and operation , ` but That is more than the present ' .\n",
      "Her husband had been an educator .\n",
      "S .\n",
      "He slipped up and politely , and walked up into the car .\n"
     ]
    }
   ],
   "source": [
    "def softmax(logits, axis = -1):\n",
    "    e = np.exp(logits)\n",
    "    return e/np.sum(e, axis = axis)\n",
    "\n",
    "def sample(n = 10, temperature = .7):\n",
    "    for _ in range(n):\n",
    "        x = np.zeros((sentence_length + 1)) \n",
    "        # The first token is <S> which is irrelevant to the output.\n",
    "        x[0] = 1 # I could've used one-hot but making a sentence with one-hot seems weird. \n",
    "        i = 0\n",
    "        choices = []\n",
    "        choice = 0\n",
    "        indices = list(range(vocab_size))\n",
    "        \n",
    "        while choice != point and i < sentence_length:\n",
    "            out = np.ravel(model(x[:-1].reshape(1, sentence_length))[0, i])\n",
    "            # output shape is (batch_size, sentence_length, vocab_size)\n",
    "            probs = softmax(out / temperature, axis = -1)\n",
    "            choice = np.random.choice(indices, p = probs)\n",
    "            i = i+1\n",
    "            x[i] = choice\n",
    "            choices.append(choice)\n",
    "\n",
    "        sample = \" \".join(map(lambda x : vocab[x], choices))\n",
    "        print(sample)\n",
    "\n",
    "sample(25)"
   ]
  },
  {
   "cell_type": "code",
   "execution_count": 20,
   "id": "5d04773a",
   "metadata": {
    "execution": {
     "iopub.execute_input": "2024-07-30T15:11:53.245545Z",
     "iopub.status.busy": "2024-07-30T15:11:53.245172Z",
     "iopub.status.idle": "2024-07-30T15:11:53.249269Z",
     "shell.execute_reply": "2024-07-30T15:11:53.248366Z"
    },
    "papermill": {
     "duration": 0.404704,
     "end_time": "2024-07-30T15:11:53.251259",
     "exception": false,
     "start_time": "2024-07-30T15:11:52.846555",
     "status": "completed"
    },
    "tags": []
   },
   "outputs": [],
   "source": [
    "# model.save(\"GPT.keras\")"
   ]
  }
 ],
 "metadata": {
  "kaggle": {
   "accelerator": "gpu",
   "dataSources": [
    {
     "datasetId": 2058,
     "sourceId": 131078,
     "sourceType": "datasetVersion"
    }
   ],
   "dockerImageVersionId": 30616,
   "isGpuEnabled": true,
   "isInternetEnabled": true,
   "language": "python",
   "sourceType": "notebook"
  },
  "kernelspec": {
   "display_name": "Python 3",
   "language": "python",
   "name": "python3"
  },
  "language_info": {
   "codemirror_mode": {
    "name": "ipython",
    "version": 3
   },
   "file_extension": ".py",
   "mimetype": "text/x-python",
   "name": "python",
   "nbconvert_exporter": "python",
   "pygments_lexer": "ipython3",
   "version": "3.10.12"
  },
  "papermill": {
   "default_parameters": {},
   "duration": 919.982817,
   "end_time": "2024-07-30T15:11:56.319700",
   "environment_variables": {},
   "exception": null,
   "input_path": "__notebook__.ipynb",
   "output_path": "__notebook__.ipynb",
   "parameters": {},
   "start_time": "2024-07-30T14:56:36.336883",
   "version": "2.4.0"
  }
 },
 "nbformat": 4,
 "nbformat_minor": 5
}
